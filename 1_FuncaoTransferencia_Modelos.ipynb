{
  "nbformat": 4,
  "nbformat_minor": 0,
  "metadata": {
    "colab": {
      "provenance": [],
      "collapsed_sections": [
        "TFU5F6HRnwfw",
        "kSuuxmcvog4P",
        "wex8MAiNq-4b",
        "hA9xP3EWt6bC",
        "LNUbAre6wWQN",
        "MU2azdKZwAwM",
        "skGbyHHMyHRJ"
      ],
      "include_colab_link": true
    },
    "kernelspec": {
      "name": "python3",
      "display_name": "Python 3"
    },
    "language_info": {
      "name": "python"
    }
  },
  "cells": [
    {
      "cell_type": "markdown",
      "metadata": {
        "id": "view-in-github",
        "colab_type": "text"
      },
      "source": [
        "<a href=\"https://colab.research.google.com/github/jullyoemmanuel/Servo/blob/main/Aula_0_1_FuncaoTransferencia_Modelos.ipynb\" target=\"_parent\"><img src=\"https://colab.research.google.com/assets/colab-badge.svg\" alt=\"Open In Colab\"/></a>"
      ]
    },
    {
      "cell_type": "markdown",
      "source": [
        "##<font color = \"red\"> Entre com o nome da dupla:##\n"
      ],
      "metadata": {
        "id": "yTxEPG6VrXOw"
      }
    },
    {
      "cell_type": "markdown",
      "source": [
        "<font color= \"blue\"> Jullyo Emmanuel\n",
        "\n",
        "<font color= \"blue\"> Pablo Ramon"
      ],
      "metadata": {
        "id": "ivnwU5N9DPDw"
      }
    },
    {
      "cell_type": "markdown",
      "source": [
        "# **Roteiro 1: Função de Transferência e Modelagem**"
      ],
      "metadata": {
        "id": "MPxGCHgCRSJB"
      }
    },
    {
      "cell_type": "markdown",
      "source": [
        "# Instalação dos pacotes"
      ],
      "metadata": {
        "id": "bus2-zftYSz4"
      }
    },
    {
      "cell_type": "code",
      "source": [
        "!pip install control"
      ],
      "metadata": {
        "id": "BdG3NLsGVUOH",
        "colab": {
          "base_uri": "https://localhost:8080/"
        },
        "outputId": "c2099b65-0e1a-4f20-f7de-4124cd042c42"
      },
      "execution_count": null,
      "outputs": [
        {
          "output_type": "stream",
          "name": "stdout",
          "text": [
            "Looking in indexes: https://pypi.org/simple, https://us-python.pkg.dev/colab-wheels/public/simple/\n",
            "Collecting control\n",
            "  Downloading control-0.9.2.tar.gz (398 kB)\n",
            "\u001b[K     |████████████████████████████████| 398 kB 5.1 MB/s \n",
            "\u001b[?25hRequirement already satisfied: numpy in /usr/local/lib/python3.8/dist-packages (from control) (1.21.6)\n",
            "Requirement already satisfied: scipy in /usr/local/lib/python3.8/dist-packages (from control) (1.7.3)\n",
            "Requirement already satisfied: matplotlib in /usr/local/lib/python3.8/dist-packages (from control) (3.2.2)\n",
            "Requirement already satisfied: cycler>=0.10 in /usr/local/lib/python3.8/dist-packages (from matplotlib->control) (0.11.0)\n",
            "Requirement already satisfied: python-dateutil>=2.1 in /usr/local/lib/python3.8/dist-packages (from matplotlib->control) (2.8.2)\n",
            "Requirement already satisfied: pyparsing!=2.0.4,!=2.1.2,!=2.1.6,>=2.0.1 in /usr/local/lib/python3.8/dist-packages (from matplotlib->control) (3.0.9)\n",
            "Requirement already satisfied: kiwisolver>=1.0.1 in /usr/local/lib/python3.8/dist-packages (from matplotlib->control) (1.4.4)\n",
            "Requirement already satisfied: six>=1.5 in /usr/local/lib/python3.8/dist-packages (from python-dateutil>=2.1->matplotlib->control) (1.15.0)\n",
            "Building wheels for collected packages: control\n",
            "  Building wheel for control (setup.py) ... \u001b[?25l\u001b[?25hdone\n",
            "  Created wheel for control: filename=control-0.9.2-py2.py3-none-any.whl size=403205 sha256=9a118fdb821631855e13322f6b0273e050b70ba873b2d24c4103a08cd532a373\n",
            "  Stored in directory: /root/.cache/pip/wheels/a6/3d/b3/8c508e66f4d44cf71b9ec49b94d4a074c8f2ee52475cd8920e\n",
            "Successfully built control\n",
            "Installing collected packages: control\n",
            "Successfully installed control-0.9.2\n"
          ]
        }
      ]
    },
    {
      "cell_type": "markdown",
      "source": [
        "# Importação das bibliotecas"
      ],
      "metadata": {
        "id": "kHoSOKxjYjNf"
      }
    },
    {
      "cell_type": "code",
      "source": [
        "import numpy as np\n",
        "import matplotlib.pyplot as plt\n",
        "import control as co\n",
        "import sympy as sp\n",
        "import scipy \n",
        "import math"
      ],
      "metadata": {
        "id": "CNknClMmYpIN"
      },
      "execution_count": null,
      "outputs": []
    },
    {
      "cell_type": "markdown",
      "source": [
        "# Definição dos parâmetros das figuras"
      ],
      "metadata": {
        "id": "MSfDpA-wZPUx"
      }
    },
    {
      "cell_type": "code",
      "source": [
        "# print no formato float com 3 dígitos\n",
        "np.set_printoptions(formatter={'float': '{: 0.3f}' .format})\n",
        "np.set_printoptions(precision=3)"
      ],
      "metadata": {
        "id": "dBZPXA-pflu0"
      },
      "execution_count": null,
      "outputs": []
    },
    {
      "cell_type": "code",
      "source": [
        "# caso seja necessário\n",
        "plt.rcParams['figure.figsize']=[23, 10]\n",
        "plt.rcParams['font.size']=24"
      ],
      "metadata": {
        "id": "tjlDfg-NZW4h"
      },
      "execution_count": null,
      "outputs": []
    },
    {
      "cell_type": "markdown",
      "source": [
        "# Exemplos do livro: Capítulo 2 "
      ],
      "metadata": {
        "id": "PCu0nnBcgSfA"
      }
    },
    {
      "cell_type": "markdown",
      "source": [
        "**Rode os códigos desta seção e acompanhe os exemplos em MATLAB apresentados no Anexo B.2 do livro \"Engenharia de Sistemas de Controle\" do Norman S. Nise, 6ª edição (pg 1117 a 1122)**"
      ],
      "metadata": {
        "id": "1Jz6g8TS4zbj"
      }
    },
    {
      "cell_type": "markdown",
      "source": [
        "## ch2p1: declaração de variáveis reais e complexas"
      ],
      "metadata": {
        "id": "2yDOHvepgWkX"
      }
    },
    {
      "cell_type": "code",
      "source": [
        "# declaração de variáveis e simples soma\n",
        "M = 5\n",
        "N = 6\n",
        "P = M + N\n",
        "\n",
        "print(P)"
      ],
      "metadata": {
        "id": "h0C8_GnngRkj",
        "colab": {
          "base_uri": "https://localhost:8080/"
        },
        "outputId": "db6348ca-39e7-4cd3-9899-4bc901135285"
      },
      "execution_count": null,
      "outputs": [
        {
          "output_type": "stream",
          "name": "stdout",
          "text": [
            "11\n"
          ]
        }
      ]
    },
    {
      "cell_type": "code",
      "source": [
        "# declaração de número complexo \n",
        "Q = complex(3,4)\n",
        "display(Q) #igual a print"
      ],
      "metadata": {
        "id": "SBwnW8WLgziO",
        "colab": {
          "base_uri": "https://localhost:8080/",
          "height": 34
        },
        "outputId": "5e293c8d-ccdd-41b8-f8c8-0e6f68ff769c"
      },
      "execution_count": null,
      "outputs": [
        {
          "output_type": "display_data",
          "data": {
            "text/plain": [
              "(3+4j)"
            ]
          },
          "metadata": {}
        }
      ]
    },
    {
      "cell_type": "code",
      "source": [
        "import cmath\n",
        "\n",
        "\n",
        "# propriedades de números complexos\n",
        "MagQ = abs(Q) #magnitude\n",
        "PhQ = cmath.phase(Q)\n",
        "PhQ_deg = (180/math.pi)*PhQ\n",
        "\n",
        "print('Magnitude = ', MagQ)\n",
        "print('Fase = ',PhQ)\n",
        "print('Fase (deg) =', PhQ_deg)"
      ],
      "metadata": {
        "id": "yTePxSbPhUdD",
        "colab": {
          "base_uri": "https://localhost:8080/"
        },
        "outputId": "145a50e2-3629-4808-a87c-02ff8f1af1fe"
      },
      "execution_count": null,
      "outputs": [
        {
          "output_type": "stream",
          "name": "stdout",
          "text": [
            "Magnitude =  5.0\n",
            "Fase =  0.9272952180016122\n",
            "Fase (deg) = 53.13010235415598\n"
          ]
        }
      ]
    },
    {
      "cell_type": "markdown",
      "source": [
        "## ch2p2: declaração dos coeficientes de um polinômio"
      ],
      "metadata": {
        "id": "Ja6mw08uiwVt"
      }
    },
    {
      "cell_type": "code",
      "source": [
        "P1 = [1, 7, -3, 23]\n",
        "P1 = np.array(P1) #algumas vezes é necessário declarar como np.array (não é o caso)\n",
        "print(P1)"
      ],
      "metadata": {
        "id": "qfZpi6GqiKHo",
        "colab": {
          "base_uri": "https://localhost:8080/"
        },
        "outputId": "d38f7c93-de0d-452a-8527-38daea113cfc"
      },
      "execution_count": null,
      "outputs": [
        {
          "output_type": "stream",
          "name": "stdout",
          "text": [
            "[ 1  7 -3 23]\n"
          ]
        }
      ]
    },
    {
      "cell_type": "code",
      "source": [
        "# extra: utilizando linguagem simbólica (sympy)\n",
        "s = sp.symbols('s')\n",
        "P11 = (s**3 + 7*s**2 - 3*s +23)\n",
        "P11"
      ],
      "metadata": {
        "id": "68y2PIoSla5W",
        "colab": {
          "base_uri": "https://localhost:8080/",
          "height": 38
        },
        "outputId": "673a615e-aac3-4d9f-dba3-fd5b7fb1a0e2"
      },
      "execution_count": null,
      "outputs": [
        {
          "output_type": "execute_result",
          "data": {
            "text/plain": [
              "s**3 + 7*s**2 - 3*s + 23"
            ],
            "text/latex": "$\\displaystyle s^{3} + 7 s^{2} - 3 s + 23$"
          },
          "metadata": {},
          "execution_count": 9
        }
      ]
    },
    {
      "cell_type": "markdown",
      "source": [
        "## ch2p4: declaração do polinômio fatorado"
      ],
      "metadata": {
        "id": "WKLbH4HGjIXS"
      }
    },
    {
      "cell_type": "code",
      "source": [
        "# declaração do polinômio a partir da forma fatorada (raízes)\n",
        "P2 = np.poly([-2, -5, -6])\n",
        "print(P2)"
      ],
      "metadata": {
        "id": "CzHYDatXjK7k",
        "colab": {
          "base_uri": "https://localhost:8080/"
        },
        "outputId": "a8b44918-ee61-4897-9c9e-e23ab4698044"
      },
      "execution_count": null,
      "outputs": [
        {
          "output_type": "stream",
          "name": "stdout",
          "text": [
            "[ 1. 13. 52. 60.]\n"
          ]
        }
      ]
    },
    {
      "cell_type": "markdown",
      "source": [
        "## ch2p5: obtenção das raízes de um polinômio"
      ],
      "metadata": {
        "id": "7g_COfBfjeFx"
      }
    },
    {
      "cell_type": "code",
      "source": [
        "P4 = np.array([5, 7, 9, -3, 2])\n",
        "raizesP4 = np.roots(P4)\n",
        "print('raizes: ', raizesP4)"
      ],
      "metadata": {
        "id": "Psw8YW7mjjN5",
        "colab": {
          "base_uri": "https://localhost:8080/"
        },
        "outputId": "20951af5-2e0b-4b32-ec79-528ce8c27b0b"
      },
      "execution_count": null,
      "outputs": [
        {
          "output_type": "stream",
          "name": "stdout",
          "text": [
            "raizes:  [-0.895+1.235j -0.895-1.235j  0.195+0.366j  0.195-0.366j]\n"
          ]
        }
      ]
    },
    {
      "cell_type": "markdown",
      "source": [
        "## ch2p6: multiplicação de polinômios"
      ],
      "metadata": {
        "id": "NX-Q41Nzkz0v"
      }
    },
    {
      "cell_type": "code",
      "source": [
        "P1 = [1, 7, 10, 9]\n",
        "P2 = [1, -3, 6, 2, 1]\n",
        "\n",
        "P5 = np.convolve(P1,P2) #multiplicação de polinômios\n",
        "print(P5)"
      ],
      "metadata": {
        "id": "OGvYgNb3k587",
        "colab": {
          "base_uri": "https://localhost:8080/"
        },
        "outputId": "a83b71d3-e3d2-4970-b01d-99267a0b67cf"
      },
      "execution_count": null,
      "outputs": [
        {
          "output_type": "stream",
          "name": "stdout",
          "text": [
            "[ 1  4 -5 23 48 81 28  9]\n"
          ]
        }
      ]
    },
    {
      "cell_type": "markdown",
      "source": [
        "## ch2p7: expansão em frações parciais"
      ],
      "metadata": {
        "id": "YCRWlvtXlPTB"
      }
    },
    {
      "cell_type": "code",
      "source": [
        "numf = [7, 9, 12]\n",
        "denf = np.convolve(np.poly([2, -7]),[1, 10, 100])"
      ],
      "metadata": {
        "id": "quVbLij-m4N_"
      },
      "execution_count": null,
      "outputs": []
    },
    {
      "cell_type": "code",
      "source": [
        "# método 1\n",
        "[K,p,k]=scipy.signal.residue(numf,denf)\n",
        "\n",
        "print('Denominadores = ',p)\n",
        "print('Resíduos = ',K)\n",
        "print('Termos direto = ',k)"
      ],
      "metadata": {
        "id": "GEV3LUmhl0M-",
        "colab": {
          "base_uri": "https://localhost:8080/"
        },
        "outputId": "aafe1ff6-21b4-48b3-b90f-f3af4028b73f"
      },
      "execution_count": null,
      "outputs": [
        {
          "output_type": "stream",
          "name": "stdout",
          "text": [
            "Denominadores =  [ 2.+0.j   -7.+0.j   -5.+8.66j -5.-8.66j]\n",
            "Resíduos =  [ 0.052+0.j    -0.411+0.j     0.179-0.336j  0.179+0.336j]\n",
            "Termos direto =  []\n"
          ]
        }
      ]
    },
    {
      "cell_type": "markdown",
      "source": [
        "### ch2p8 "
      ],
      "metadata": {
        "id": "TFU5F6HRnwfw"
      }
    },
    {
      "cell_type": "code",
      "source": [
        "# exemplo 2.3\n",
        "[K,p,k]=scipy.signal.residue(32,np.poly([0, -4, -8]))\n",
        "\n",
        "print('Denominadores = ',p)\n",
        "print('Resíduos = ',K)\n",
        "print('Termos direto = ',k)"
      ],
      "metadata": {
        "id": "hKw3hzSjn5Bw",
        "colab": {
          "base_uri": "https://localhost:8080/"
        },
        "outputId": "eeec14c3-ac41-4ebc-d809-ffb4c5da655e"
      },
      "execution_count": null,
      "outputs": [
        {
          "output_type": "stream",
          "name": "stdout",
          "text": [
            "Denominadores =  [ 0. -4. -8.]\n",
            "Resíduos =  [ 1. -2.  1.]\n",
            "Termos direto =  []\n"
          ]
        }
      ]
    },
    {
      "cell_type": "markdown",
      "source": [
        "## ch2p9: Criando Funções de Transferência"
      ],
      "metadata": {
        "id": "GxoJfVr7oXbr"
      }
    },
    {
      "cell_type": "markdown",
      "source": [
        "### método vetorial, forma polinomial"
      ],
      "metadata": {
        "id": "kSuuxmcvog4P"
      }
    },
    {
      "cell_type": "code",
      "source": [
        "numf = 150 * np.array([1, 2, 7]) #neste caso é necessário declarar como array\n",
        "denf = [1, 5, 4, 0]\n",
        "\n",
        "FT1 = co.tf(numf,denf)\n",
        "print(FT1)"
      ],
      "metadata": {
        "id": "cANTCGHPo-bp",
        "colab": {
          "base_uri": "https://localhost:8080/"
        },
        "outputId": "65a9e688-73af-4056-b89d-2c17f022a6b3"
      },
      "execution_count": null,
      "outputs": [
        {
          "output_type": "stream",
          "name": "stdout",
          "text": [
            "\n",
            "150 s^2 + 300 s + 1050\n",
            "----------------------\n",
            "  s^3 + 5 s^2 + 4 s\n",
            "\n"
          ]
        }
      ]
    },
    {
      "cell_type": "markdown",
      "source": [
        "### método vetorial, forma fatorada"
      ],
      "metadata": {
        "id": "wex8MAiNq-4b"
      }
    },
    {
      "cell_type": "code",
      "source": [
        "numg = [-2, -4] #(s + 2)(s+4)\n",
        "deng = [-7, -8, -9] #(s+7)(s+8)\n",
        "K = 20\n",
        "\n",
        "#método 1\n",
        "FT2 = scipy.signal.ZerosPolesGain(numg, deng, K)\n",
        "print(FT2)"
      ],
      "metadata": {
        "id": "BEdKuoWTrBST",
        "colab": {
          "base_uri": "https://localhost:8080/"
        },
        "outputId": "66eb3202-5ba8-4616-8f58-ecc51531c023"
      },
      "execution_count": null,
      "outputs": [
        {
          "output_type": "stream",
          "name": "stdout",
          "text": [
            "ZerosPolesGainContinuous(\n",
            "array([-2, -4]),\n",
            "array([-7, -8, -9]),\n",
            "20,\n",
            "dt: None\n",
            ")\n"
          ]
        }
      ]
    },
    {
      "cell_type": "code",
      "source": [
        "#método 2\n",
        "FT2 = co.tf(np.poly(numg), np.poly(deng))\n",
        "print(FT2)"
      ],
      "metadata": {
        "id": "hNSt9EVGviSC",
        "colab": {
          "base_uri": "https://localhost:8080/"
        },
        "outputId": "265a0c99-5810-4e65-dc5a-1cc8a7df8af4"
      },
      "execution_count": null,
      "outputs": [
        {
          "output_type": "stream",
          "name": "stdout",
          "text": [
            "\n",
            "      s^2 + 6 s + 8\n",
            "--------------------------\n",
            "s^3 + 24 s^2 + 191 s + 504\n",
            "\n"
          ]
        }
      ]
    },
    {
      "cell_type": "markdown",
      "source": [
        "### método da expressão racional, forma polinomial"
      ],
      "metadata": {
        "id": "hA9xP3EWt6bC"
      }
    },
    {
      "cell_type": "code",
      "source": [
        "s = co.tf('s')\n",
        "\n",
        "F = 150 * (s**2 + 2*s + 7)/(s * (s**2 + 5*s + 4))\n",
        "G = 20 * (s + 2)/((s + 7) * (s + 8) * (s + 9))\n",
        "\n",
        "print(F)\n",
        "print(G)"
      ],
      "metadata": {
        "id": "DJsm8KHet9we",
        "colab": {
          "base_uri": "https://localhost:8080/"
        },
        "outputId": "284546f0-c714-4ca1-b41c-1900a32734fe"
      },
      "execution_count": null,
      "outputs": [
        {
          "output_type": "stream",
          "name": "stdout",
          "text": [
            "\n",
            "150 s^2 + 300 s + 1050\n",
            "----------------------\n",
            "  s^3 + 5 s^2 + 4 s\n",
            "\n",
            "\n",
            "        20 s + 40\n",
            "--------------------------\n",
            "s^3 + 24 s^2 + 191 s + 504\n",
            "\n"
          ]
        }
      ]
    },
    {
      "cell_type": "markdown",
      "source": [
        "## ch2p10: Conversões entre forma polinomial e fatorada"
      ],
      "metadata": {
        "id": "2tKvuwgqv0aX"
      }
    },
    {
      "cell_type": "markdown",
      "source": [
        "### forma polinomial para fatorada"
      ],
      "metadata": {
        "id": "LNUbAre6wWQN"
      }
    },
    {
      "cell_type": "code",
      "source": [
        "numftf = [10, 40, 60] #(10s^2 + 40s + 60)\n",
        "denftf = [1, 4, 5, 7] #(s^3 + 4s^2 + 5s + 7)\n",
        "\n",
        "[z,p,k] = scipy.signal.tf2zpk(numftf, denftf) \n",
        "\n",
        "print('zeros: ',z)\n",
        "print('poles: ',p)\n",
        "print('gain: ',k)"
      ],
      "metadata": {
        "id": "29dk802yv3oa",
        "colab": {
          "base_uri": "https://localhost:8080/"
        },
        "outputId": "6a2a5277-b4f7-4eaa-fb00-fd5fb4b28756"
      },
      "execution_count": null,
      "outputs": [
        {
          "output_type": "stream",
          "name": "stdout",
          "text": [
            "zeros:  [-2.+1.414j -2.-1.414j]\n",
            "poles:  [-3.116+0.j    -0.442+1.432j -0.442-1.432j]\n",
            "gain:  10.0\n"
          ]
        }
      ]
    },
    {
      "cell_type": "markdown",
      "source": [
        "### forma fatorada para polinomial"
      ],
      "metadata": {
        "id": "MU2azdKZwAwM"
      }
    },
    {
      "cell_type": "code",
      "source": [
        "numgzp = [-2, -4] #(s+2)(s+4)\n",
        "dengzp = [0, -3, -5] #s(s+3)(s+5)\n",
        "K = 10\n",
        "\n",
        "[numftg, denftg] = scipy.signal.zpk2tf(numgzp, dengzp, K)\n",
        "\n",
        "print('numerador: ', numftg)\n",
        "print('denominador: ', denftg)"
      ],
      "metadata": {
        "id": "4nfXcf9_wZyF",
        "colab": {
          "base_uri": "https://localhost:8080/"
        },
        "outputId": "ba2d6d51-88a3-4e76-d9a7-554ffeb958fc"
      },
      "execution_count": null,
      "outputs": [
        {
          "output_type": "stream",
          "name": "stdout",
          "text": [
            "numerador:  [10. 60. 80.]\n",
            "denominador:  [ 1.  8. 15.  0.]\n"
          ]
        }
      ]
    },
    {
      "cell_type": "markdown",
      "source": [
        "### ch2p11: conversão da forma polinomial/fatorada para função de transferência"
      ],
      "metadata": {
        "id": "skGbyHHMyHRJ"
      }
    },
    {
      "cell_type": "code",
      "source": [
        "FT = co.tf(numftg, denftg)\n",
        "print(FT)"
      ],
      "metadata": {
        "id": "cbc8KL_Jx12Y",
        "colab": {
          "base_uri": "https://localhost:8080/"
        },
        "outputId": "62e072eb-e92f-426e-d672-8b34df3b0475"
      },
      "execution_count": null,
      "outputs": [
        {
          "output_type": "stream",
          "name": "stdout",
          "text": [
            "\n",
            "10 s^2 + 60 s + 80\n",
            "------------------\n",
            "s^3 + 8 s^2 + 15 s\n",
            "\n"
          ]
        }
      ]
    },
    {
      "cell_type": "markdown",
      "source": [
        "## ch2p12: Funções no tempo"
      ],
      "metadata": {
        "id": "d6B81m02yvva"
      }
    },
    {
      "cell_type": "code",
      "source": [
        "t = np.linspace(0, 10, 1000) #(início, fim, número_de_elementos)\n",
        "\n",
        "f1 = np.cos(5*t) \n",
        "f2 = np.sin(5*t)\n",
        "\n",
        "plt.plot(t,f1, 'r')\n",
        "plt.plot(t,f2,'g')\n",
        "\n",
        "plt.xlabel('tempo (s)')\n",
        "plt.ylabel('função')\n",
        "plt.show()"
      ],
      "metadata": {
        "id": "qSi4TOVryzIP",
        "colab": {
          "base_uri": "https://localhost:8080/",
          "height": 634
        },
        "outputId": "3afae218-2818-4e38-b758-1b1f5b75ef8a"
      },
      "execution_count": null,
      "outputs": [
        {
          "output_type": "display_data",
          "data": {
            "text/plain": [
              "<Figure size 1656x720 with 1 Axes>"
            ],
            "image/png": "[encoded data removed]"
          },
          "metadata": {
            "needs_background": "light"
          }
        }
      ]
    },
    {
      "cell_type": "markdown",
      "source": [
        "# Resolução do Roteiro "
      ],
      "metadata": {
        "id": "9qyuiHaqEbkr"
      }
    },
    {
      "cell_type": "markdown",
      "source": [
        "## Questão 2"
      ],
      "metadata": {
        "id": "IIjoCDCcFtx0"
      }
    },
    {
      "cell_type": "markdown",
      "source": [
        "**Façam a expansão por frações parciais das seguintes funções de transferência:**"
      ],
      "metadata": {
        "id": "hAKZlDVEqfcl"
      }
    },
    {
      "cell_type": "markdown",
      "source": [
        "### item a"
      ],
      "metadata": {
        "id": "grd55KF50_8C"
      }
    },
    {
      "cell_type": "markdown",
      "source": [
        "$$F(s)=\\frac{s+3}{s^2+7s+10}$$"
      ],
      "metadata": {
        "id": "2HftSjVbqic9"
      }
    },
    {
      "cell_type": "code",
      "source": [
        "numf = np.array([1, 3])\n",
        "denf = np.array([1, 7, 10])\n",
        "\n",
        "[K,p,k]=scipy.signal.residue(numf,denf)\n",
        "\n",
        "print('Resíduos = ',K)\n",
        "print('Denominadores = ',p)\n",
        "print('Termos direto = ',k)"
      ],
      "metadata": {
        "id": "83OTqp0BEaVj",
        "colab": {
          "base_uri": "https://localhost:8080/"
        },
        "outputId": "e9849216-d05d-4d4d-a447-e0b0513f0033"
      },
      "execution_count": null,
      "outputs": [
        {
          "output_type": "stream",
          "name": "stdout",
          "text": [
            "Resíduos =  [0.333 0.667]\n",
            "Denominadores =  [-2. -5.]\n",
            "Termos direto =  []\n"
          ]
        }
      ]
    },
    {
      "cell_type": "markdown",
      "source": [
        "Dessa forma,\n",
        "$$F(s)=\\frac{s+3}{s^2+7s+10}= \\frac{0,333}{(s+2)}+\\frac{0,667}{(s+5)}$$"
      ],
      "metadata": {
        "id": "9nETfcZzEkt7"
      }
    },
    {
      "cell_type": "markdown",
      "source": [
        "### item b"
      ],
      "metadata": {
        "id": "hqghLJLo1Rjw"
      }
    },
    {
      "cell_type": "markdown",
      "source": [
        "$$F(s)=\\frac{s(s+4)}{s^2+4s+4}$$"
      ],
      "metadata": {
        "id": "WagGtW83rF_G"
      }
    },
    {
      "cell_type": "code",
      "source": [
        "numf = np.array([1,3,0])\n",
        "denf = np.array([1,4,4])\n",
        "\n",
        "[K,p,k]=scipy.signal.residue(numf,denf)\n",
        "\n",
        "print('Denominadores = ',p)\n",
        "print('Resíduos = ',K)\n",
        "print('Termos direto = ',k)"
      ],
      "metadata": {
        "id": "a0HZO54_XnP1",
        "colab": {
          "base_uri": "https://localhost:8080/"
        },
        "outputId": "c883c9cd-6808-45bd-c1d5-4a176282a7aa"
      },
      "execution_count": null,
      "outputs": [
        {
          "output_type": "stream",
          "name": "stdout",
          "text": [
            "Denominadores =  [-2. -2.]\n",
            "Resíduos =  [-1. -2.]\n",
            "Termos direto =  [1.]\n"
          ]
        }
      ]
    },
    {
      "cell_type": "markdown",
      "source": [
        "Então,\n",
        "\n",
        "$$F(s)=\\frac{s(s+3)}{s^2+4s+4}= \\frac{-1}{(s+2)}+\\frac{-2}{(s+2)^2}+1$$"
      ],
      "metadata": {
        "id": "OcbcF7x0E6rJ"
      }
    },
    {
      "cell_type": "markdown",
      "source": [
        "### item c"
      ],
      "metadata": {
        "id": "gZOKq33x15wf"
      }
    },
    {
      "cell_type": "markdown",
      "source": [
        "$$F(s)=\\frac{s^3+2s^2+4s+1}{(s^2+1)(s^2+5s+3)}$$"
      ],
      "metadata": {
        "id": "hkniCmSsrPLZ"
      }
    },
    {
      "cell_type": "code",
      "source": [
        "numf = np.array([1,2,4,1])\n",
        "denf = np.convolve([1, 0, 1],[1, 5, 3])\n",
        "\n",
        "[K,p,k]=scipy.signal.residue(numf,denf)\n",
        "\n",
        "print('Denominadores = ',p)\n",
        "print('Resíduos = ',K)\n",
        "print('Termos direto = ',k)"
      ],
      "metadata": {
        "id": "qjQnBtQI17Ko",
        "colab": {
          "base_uri": "https://localhost:8080/"
        },
        "outputId": "9883c08d-7ec7-4a9c-8fdf-b38e6e5e9449"
      },
      "execution_count": null,
      "outputs": [
        {
          "output_type": "stream",
          "name": "stdout",
          "text": [
            "Denominadores =  [-6.972e-01+0.j  1.110e-16+1.j  1.110e-16-1.j -4.303e+00+0.j]\n",
            "Resíduos =  [-0.216+0.j     0.19 -0.224j  0.19 +0.224j  0.836-0.j   ]\n",
            "Termos direto =  []\n"
          ]
        }
      ]
    },
    {
      "cell_type": "markdown",
      "source": [
        "## Questão 3"
      ],
      "metadata": {
        "id": "2kGRBFhvXK2R"
      }
    },
    {
      "cell_type": "markdown",
      "source": [
        "**Considere um sistema dinâmico linear descrito pela seguinte equação diferencial ordinária:**\n",
        "\n",
        "$$ \\frac{d^2y(t)}{dt}+2\\frac{dy(t)}{dt}+5y(t)=x(t) $$"
      ],
      "metadata": {
        "id": "gWJRA_Y4sgv3"
      }
    },
    {
      "cell_type": "markdown",
      "source": [
        "### item a"
      ],
      "metadata": {
        "id": "_CTqDv32XN42"
      }
    },
    {
      "cell_type": "markdown",
      "source": [
        "**Assumindo condições iniciais nulas, obtenha a função de transferência $H(s)=Y(s)/X(s)$.**"
      ],
      "metadata": {
        "id": "v8cduc7ttDmP"
      }
    },
    {
      "cell_type": "code",
      "source": [
        "numf = 1\n",
        "denf = [1,2,5]\n",
        "\n",
        "FT = co.tf(numf,denf)\n",
        "print(FT)"
      ],
      "metadata": {
        "id": "wqFKVFTqXJfG",
        "colab": {
          "base_uri": "https://localhost:8080/"
        },
        "outputId": "0fb2e1af-d887-4d1a-a602-d19cbc409f6c"
      },
      "execution_count": null,
      "outputs": [
        {
          "output_type": "stream",
          "name": "stdout",
          "text": [
            "\n",
            "      1\n",
            "-------------\n",
            "s^2 + 2 s + 5\n",
            "\n"
          ]
        },
        {
          "output_type": "execute_result",
          "data": {
            "text/plain": [
              "control.xferfcn.TransferFunction"
            ]
          },
          "metadata": {},
          "execution_count": 52
        }
      ]
    },
    {
      "cell_type": "markdown",
      "source": [
        "### item b"
      ],
      "metadata": {
        "id": "JoQOaYoUXfpW"
      }
    },
    {
      "cell_type": "markdown",
      "source": [
        "**Faça a expansão por frações parciais da função de transferência**"
      ],
      "metadata": {
        "id": "Ji7Yp_VyMvQR"
      }
    },
    {
      "cell_type": "code",
      "source": [
        "[K,p,k]=scipy.signal.residue(numf,denf)\n",
        "\n",
        "print('Denominadores = ',p)\n",
        "print('Resíduos = ',K)\n",
        "print('Termos direto = ',k)"
      ],
      "metadata": {
        "id": "EtAAq7rtXhNq",
        "colab": {
          "base_uri": "https://localhost:8080/"
        },
        "outputId": "a929dd31-8ab0-4ac8-8b53-7afae107e15a"
      },
      "execution_count": null,
      "outputs": [
        {
          "output_type": "stream",
          "name": "stdout",
          "text": [
            "Denominadores =  [-1.+2.j -1.-2.j]\n",
            "Resíduos =  [0.-0.25j 0.+0.25j]\n",
            "Termos direto =  []\n"
          ]
        }
      ]
    },
    {
      "cell_type": "markdown",
      "source": [
        "### item c"
      ],
      "metadata": {
        "id": "EQRsGEKR3pUK"
      }
    },
    {
      "cell_type": "markdown",
      "source": [
        "**Calcule a Transformada Inversa de Laplace e verifique seu resultado computacionalmente (Dica: utilize a função sympy.inverse_laplace_transform)**"
      ],
      "metadata": {
        "id": "cWl3v8m0Mx_5"
      }
    },
    {
      "cell_type": "markdown",
      "source": [
        "$$F(s)=\\frac{1}{s^2+2s+5}$$\n",
        "\n",
        "---\n",
        "\n",
        "$$\\mathcal{L}^{-1}(\\frac{1}{s^2+2s+5})= \\mathcal{L}^{-1}(\\frac{1}{(s+1)^2+5})$$\n",
        "\n",
        "---\n",
        "\n",
        "Se $\\mathcal{L}^{-1}(F(s))=f(t)$, então: $$\\mathcal{L}^{-1}(F(s-a))=e^{at}f(t)$$\n",
        "\n",
        "---\n",
        "\n",
        "Para $\\frac{1}{(s+1)^2+4}:a=-1$, $$F(s)=\\frac{1}{s^2+4}=e^{-t}\\mathcal{L}^{-1}(\\frac{1}{s^2+4})$$\n",
        "\n",
        "---\n",
        "\n",
        "Como $\\mathcal{L}^{-1}(\\frac{1}{s^2+4})= \\frac{1}{2}sin(2t)$, então:\n",
        "\n",
        "\n",
        "\n",
        "$$F(s)=\\frac{1}{s^2+2s+5}=e^{-t}\\frac{1}{2}sin(2t)$$"
      ],
      "metadata": {
        "id": "e9-WBjgPVaCL"
      }
    },
    {
      "cell_type": "code",
      "source": [
        "def invL(F):\n",
        "    return sp.inverse_laplace_transform(F, s, t)\n",
        "\n",
        "FT = 1/((s**2) + (2*s) + 5)\n",
        "invL(F)\n"
      ],
      "metadata": {
        "id": "oBpcZQgi3rov",
        "colab": {
          "base_uri": "https://localhost:8080/",
          "height": 38
        },
        "outputId": "97072e8f-c541-486b-d8a8-04df31998644"
      },
      "execution_count": null,
      "outputs": [
        {
          "output_type": "execute_result",
          "data": {
            "text/plain": [
              "exp(-a*t)*Heaviside(t)"
            ],
            "text/latex": "$\\displaystyle e^{- a t} \\theta\\left(t\\right)$"
          },
          "metadata": {},
          "execution_count": 55
        }
      ]
    },
    {
      "cell_type": "markdown",
      "source": [
        "## Questão 4\n",
        "**(Teórica) Obtenha a equação diferencial ordinária, a transformada de Laplace e a função de transferência do sistema abaixo considerando a saída como a tensão sobre o indutor**\n",
        "\n",
        "![Circuito.png](https://drive.google.com/uc?id=1tv6U6tm8aD6dsVbsyAj14zv5E5EKyOxB)"
      ],
      "metadata": {
        "id": "Z_1O-ItikRBf"
      }
    },
    {
      "cell_type": "markdown",
      "source": [
        "Passando o circuito para o dominio de $s$, temos a seguinte equação para a tensão no indutor:\n",
        "$$v_{L}(s)=\\frac{Ls}{R+Ls+\\frac{1}{sC}}\\cdot v(s)$$\n",
        "\n",
        "---\n",
        "\n",
        "$$v_L(s)=\\frac{LCs^2}{RsC+Ls^2+1}\\cdot v(s)$$\n",
        "\n",
        "---\n",
        "\n",
        "$$\\frac{v_L(s)}{v(s)}=\\frac{LC}{\\frac{1}{s^2}+\\frac{RC}{s}+LC}$$\n",
        "\n"
      ],
      "metadata": {
        "id": "d5BWwpuGM4cQ"
      }
    }
  ]
}
