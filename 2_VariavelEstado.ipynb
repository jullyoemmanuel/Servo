{
  "nbformat": 4,
  "nbformat_minor": 0,
  "metadata": {
    "colab": {
      "provenance": [],
      "include_colab_link": true
    },
    "kernelspec": {
      "name": "python3",
      "display_name": "Python 3"
    },
    "language_info": {
      "name": "python"
    }
  },
  "cells": [
    {
      "cell_type": "markdown",
      "metadata": {
        "id": "view-in-github",
        "colab_type": "text"
      },
      "source": [
        "<a href=\"https://colab.research.google.com/github/jullyoemmanuel/Servo/blob/main/2_VariavelEstado.ipynb\" target=\"_parent\"><img src=\"https://colab.research.google.com/assets/colab-badge.svg\" alt=\"Open In Colab\"/></a>"
      ]
    },
    {
      "cell_type": "markdown",
      "source": [
        "# **Roteiro 2: Variáveis de Estado**"
      ],
      "metadata": {
        "id": "HHbw4bktReED"
      }
    },
    {
      "cell_type": "markdown",
      "source": [
        "# Instalação dos pacotes"
      ],
      "metadata": {
        "id": "bus2-zftYSz4"
      }
    },
    {
      "cell_type": "code",
      "source": [
        "!pip install control"
      ],
      "metadata": {
        "id": "BdG3NLsGVUOH",
        "colab": {
          "base_uri": "https://localhost:8080/"
        },
        "outputId": "3fd1d671-6c21-4496-a801-1cb2f520e19d"
      },
      "execution_count": null,
      "outputs": [
        {
          "output_type": "stream",
          "name": "stdout",
          "text": [
            "Looking in indexes: https://pypi.org/simple, https://us-python.pkg.dev/colab-wheels/public/simple/\n",
            "Collecting control\n",
            "  Downloading control-0.9.2.tar.gz (398 kB)\n",
            "\u001b[K     |████████████████████████████████| 398 kB 7.8 MB/s \n",
            "\u001b[?25hRequirement already satisfied: numpy in /usr/local/lib/python3.8/dist-packages (from control) (1.21.6)\n",
            "Requirement already satisfied: scipy in /usr/local/lib/python3.8/dist-packages (from control) (1.7.3)\n",
            "Requirement already satisfied: matplotlib in /usr/local/lib/python3.8/dist-packages (from control) (3.2.2)\n",
            "Requirement already satisfied: python-dateutil>=2.1 in /usr/local/lib/python3.8/dist-packages (from matplotlib->control) (2.8.2)\n",
            "Requirement already satisfied: cycler>=0.10 in /usr/local/lib/python3.8/dist-packages (from matplotlib->control) (0.11.0)\n",
            "Requirement already satisfied: pyparsing!=2.0.4,!=2.1.2,!=2.1.6,>=2.0.1 in /usr/local/lib/python3.8/dist-packages (from matplotlib->control) (3.0.9)\n",
            "Requirement already satisfied: kiwisolver>=1.0.1 in /usr/local/lib/python3.8/dist-packages (from matplotlib->control) (1.4.4)\n",
            "Requirement already satisfied: six>=1.5 in /usr/local/lib/python3.8/dist-packages (from python-dateutil>=2.1->matplotlib->control) (1.15.0)\n",
            "Building wheels for collected packages: control\n",
            "  Building wheel for control (setup.py) ... \u001b[?25l\u001b[?25hdone\n",
            "  Created wheel for control: filename=control-0.9.2-py2.py3-none-any.whl size=403205 sha256=3bc38963eb9e80e97b649cfc1b1bc5462049d91c719d8af8fe9f4aff0bf5a9b4\n",
            "  Stored in directory: /root/.cache/pip/wheels/a6/3d/b3/8c508e66f4d44cf71b9ec49b94d4a074c8f2ee52475cd8920e\n",
            "Successfully built control\n",
            "Installing collected packages: control\n",
            "Successfully installed control-0.9.2\n"
          ]
        }
      ]
    },
    {
      "cell_type": "markdown",
      "source": [
        "# Importação das bibliotecas"
      ],
      "metadata": {
        "id": "kHoSOKxjYjNf"
      }
    },
    {
      "cell_type": "code",
      "source": [
        "import numpy as np\n",
        "import matplotlib.pyplot as plt\n",
        "import control as co\n",
        "import sympy as sp\n",
        "import scipy \n",
        "import math"
      ],
      "metadata": {
        "id": "CNknClMmYpIN"
      },
      "execution_count": null,
      "outputs": []
    },
    {
      "cell_type": "markdown",
      "source": [
        "# Definição dos parâmetros das figuras"
      ],
      "metadata": {
        "id": "MSfDpA-wZPUx"
      }
    },
    {
      "cell_type": "code",
      "source": [
        "# print no formato float com 3 dígitos\n",
        "np.set_printoptions(formatter={'float': '{: 0.3f}' .format})\n",
        "np.set_printoptions(precision=3)"
      ],
      "metadata": {
        "id": "9ylei5juPu9d"
      },
      "execution_count": null,
      "outputs": []
    },
    {
      "cell_type": "code",
      "source": [
        "# caso seja necessário\n",
        "plt.rcParams['figure.figsize']=[23, 10]\n",
        "plt.rcParams['font.size']=24"
      ],
      "metadata": {
        "id": "tjlDfg-NZW4h"
      },
      "execution_count": null,
      "outputs": []
    },
    {
      "cell_type": "markdown",
      "source": [
        "# Exemplos do livro: Capítulo 3 "
      ],
      "metadata": {
        "id": "lLMuaHJ3l4gy"
      }
    },
    {
      "cell_type": "markdown",
      "source": [
        "**Rode os códigos desta seção e acompanhe os exemplos em MATLAB apresentados no Anexo B.2 do livro \"Engenharia de Sistemas de Controle\" do Norman S. Nise, 6ª edição (pg 1122 a 1125)**"
      ],
      "metadata": {
        "id": "bQ-JMaBggSs_"
      }
    },
    {
      "cell_type": "markdown",
      "source": [
        "### ch3p1: declaração de matriz"
      ],
      "metadata": {
        "id": "jDH7geHg9BYE"
      }
    },
    {
      "cell_type": "code",
      "source": [
        "A = np.array([[0, 1, 0],[0, 0, 1],[-9, -8, -7]])\n",
        "print(A)"
      ],
      "metadata": {
        "id": "Bv00bTUYlHOj",
        "colab": {
          "base_uri": "https://localhost:8080/"
        },
        "outputId": "4cdb24a4-a6c5-47ab-b474-f68742b3eb1b"
      },
      "execution_count": null,
      "outputs": [
        {
          "output_type": "stream",
          "name": "stdout",
          "text": [
            "[[ 0  1  0]\n",
            " [ 0  0  1]\n",
            " [-9 -8 -7]]\n"
          ]
        }
      ]
    },
    {
      "cell_type": "markdown",
      "source": [
        "### ch3p2: declaração de vetor-linha e vetor-coluna"
      ],
      "metadata": {
        "id": "nlUo-qTg9FgP"
      }
    },
    {
      "cell_type": "code",
      "source": [
        "C = np.array([[2, 3, 4]]) #vetor-linha\n",
        "B = np.array([[7],[8],[9]]) #vetor-coluna\n",
        "print(C)\n",
        "print(B)"
      ],
      "metadata": {
        "id": "BODiaCw9mX2B",
        "colab": {
          "base_uri": "https://localhost:8080/"
        },
        "outputId": "7a492a79-bdd6-425f-f872-fd1757895d71"
      },
      "execution_count": null,
      "outputs": [
        {
          "output_type": "stream",
          "name": "stdout",
          "text": [
            "[[2 3 4]]\n",
            "[[7]\n",
            " [8]\n",
            " [9]]\n"
          ]
        }
      ]
    },
    {
      "cell_type": "code",
      "source": [
        "# outra forma de declarar o vetor-coluna\n",
        "B = np.array([[7, 8, 9]])\n",
        "B = np.transpose(B)\n",
        "\n",
        "print(C)\n",
        "print(B)"
      ],
      "metadata": {
        "id": "GCbCTNLW9L9J",
        "colab": {
          "base_uri": "https://localhost:8080/"
        },
        "outputId": "80a08645-8b14-40e7-8625-248f0e6d68e5"
      },
      "execution_count": null,
      "outputs": [
        {
          "output_type": "stream",
          "name": "stdout",
          "text": [
            "[[2 3 4]]\n",
            "[[7]\n",
            " [8]\n",
            " [9]]\n"
          ]
        }
      ]
    },
    {
      "cell_type": "markdown",
      "source": [
        "### ch3p3: representação no espaço de estados"
      ],
      "metadata": {
        "id": "R5Fmca5Q9Njz"
      }
    },
    {
      "cell_type": "code",
      "source": [
        "D = np.array([[0]])\n",
        "sys = co.StateSpace(A, B, C, D)\n",
        "print(sys)"
      ],
      "metadata": {
        "id": "7a39qNOloh90",
        "colab": {
          "base_uri": "https://localhost:8080/"
        },
        "outputId": "a7225c1a-1f29-4d07-c8b3-cde5311fa9b6"
      },
      "execution_count": null,
      "outputs": [
        {
          "output_type": "stream",
          "name": "stdout",
          "text": [
            "A = [[ 0.  1.  0.]\n",
            "     [ 0.  0.  1.]\n",
            "     [-9. -8. -7.]]\n",
            "\n",
            "B = [[7.]\n",
            "     [8.]\n",
            "     [9.]]\n",
            "\n",
            "C = [[2. 3. 4.]]\n",
            "\n",
            "D = [[0.]]\n",
            "\n"
          ]
        }
      ]
    },
    {
      "cell_type": "code",
      "source": [
        "# Para acessar cada matriz:\n",
        "A = sys.A\n",
        "B = sys.B\n",
        "C = sys.C\n",
        "D = sys.D\n",
        "\n",
        "display(A)"
      ],
      "metadata": {
        "id": "uMyvNE0KQN7Y",
        "colab": {
          "base_uri": "https://localhost:8080/",
          "height": 69
        },
        "outputId": "0b2a84ef-5e1d-4047-f747-e57d69af6cb2"
      },
      "execution_count": null,
      "outputs": [
        {
          "output_type": "display_data",
          "data": {
            "text/plain": [
              "array([[ 0.,  1.,  0.],\n",
              "       [ 0.,  0.,  1.],\n",
              "       [-9., -8., -7.]])"
            ]
          },
          "metadata": {}
        }
      ]
    },
    {
      "cell_type": "code",
      "source": [
        "# método 2:\n",
        "sys2 = co.ss(A,B,C,D)\n",
        "print(sys2)"
      ],
      "metadata": {
        "id": "9lE95NsBCx65",
        "colab": {
          "base_uri": "https://localhost:8080/"
        },
        "outputId": "5dda9542-5b6c-4884-e684-878ee5a27f6b"
      },
      "execution_count": null,
      "outputs": [
        {
          "output_type": "stream",
          "name": "stdout",
          "text": [
            "<LinearIOSystem>: sys[3]\n",
            "Inputs (1): ['u[0]']\n",
            "Outputs (1): ['y[0]']\n",
            "States (3): ['x[0]', 'x[1]', 'x[2]']\n",
            "\n",
            "A = [[ 0.  1.  0.]\n",
            "     [ 0.  0.  1.]\n",
            "     [-9. -8. -7.]]\n",
            "\n",
            "B = [[7.]\n",
            "     [8.]\n",
            "     [9.]]\n",
            "\n",
            "C = [[2. 3. 4.]]\n",
            "\n",
            "D = [[0.]]\n",
            "\n"
          ]
        }
      ]
    },
    {
      "cell_type": "code",
      "source": [
        "# método 3:\n",
        "Aa = \"0 1 0; 0 0 1; -9 -8 -7\"\n",
        "Bb = \"7; 8; 9\"\n",
        "Cc = \"2, 3, 4\"\n",
        "Dd = \"0\"\n",
        "sys3 = co.ss(Aa, Bb, Cc, Dd)\n",
        "print(sys3)"
      ],
      "metadata": {
        "id": "FNgtiuhEDIIV",
        "colab": {
          "base_uri": "https://localhost:8080/"
        },
        "outputId": "67ca0bfb-dd8c-4893-e88a-8638bd71e57b"
      },
      "execution_count": null,
      "outputs": [
        {
          "output_type": "stream",
          "name": "stdout",
          "text": [
            "<LinearIOSystem>: sys[4]\n",
            "Inputs (1): ['u[0]']\n",
            "Outputs (1): ['y[0]']\n",
            "States (3): ['x[0]', 'x[1]', 'x[2]']\n",
            "\n",
            "A = [[ 0.  1.  0.]\n",
            "     [ 0.  0.  1.]\n",
            "     [-9. -8. -7.]]\n",
            "\n",
            "B = [[7.]\n",
            "     [8.]\n",
            "     [9.]]\n",
            "\n",
            "C = [[2. 3. 4.]]\n",
            "\n",
            "D = [[0.]]\n",
            "\n"
          ]
        }
      ]
    },
    {
      "cell_type": "markdown",
      "source": [
        "### ch3p4: conversão de função de transferência para espaço de estados"
      ],
      "metadata": {
        "id": "xOXH6qEj9SPO"
      }
    },
    {
      "cell_type": "code",
      "source": [
        "# declaração da FT\n",
        "num = [24]\n",
        "den = [1, 9, 26, 24]\n",
        "FT = co.tf(num,den)"
      ],
      "metadata": {
        "id": "6Oic0_8qq5Zw"
      },
      "execution_count": null,
      "outputs": []
    },
    {
      "cell_type": "code",
      "source": [
        "# utilizando a biblioteca control (co)\n",
        "SS = co.tf2ss(FT) # diretamente da FT\n",
        "print(SS)\n",
        "\n",
        "#SS = co.tf2ss(num,den) # a partir dos coeficientes do numerador e denominador\n",
        "#print(SS)"
      ],
      "metadata": {
        "id": "Jtb28w2K9sve",
        "colab": {
          "base_uri": "https://localhost:8080/"
        },
        "outputId": "51da29f0-b19b-4419-83f2-a7d54aa26897"
      },
      "execution_count": null,
      "outputs": [
        {
          "output_type": "stream",
          "name": "stdout",
          "text": [
            "A = [[ -9. -26. -24.]\n",
            "     [  1.   0.   0.]\n",
            "     [  0.   1.   0.]]\n",
            "\n",
            "B = [[1.]\n",
            "     [0.]\n",
            "     [0.]]\n",
            "\n",
            "C = [[ 0.  0. 24.]]\n",
            "\n",
            "D = [[0.]]\n",
            "\n"
          ]
        }
      ]
    },
    {
      "cell_type": "code",
      "source": [
        "# método 2: \n",
        "sys2 = co.ss(FT)\n",
        "print(sys2)"
      ],
      "metadata": {
        "id": "K8dtKPevEF1c",
        "colab": {
          "base_uri": "https://localhost:8080/"
        },
        "outputId": "cf5b0edb-762d-4029-e821-4fb5a0c18bce"
      },
      "execution_count": null,
      "outputs": [
        {
          "output_type": "stream",
          "name": "stdout",
          "text": [
            "<LinearIOSystem>: sys[7]\n",
            "Inputs (1): ['u[0]']\n",
            "Outputs (1): ['y[0]']\n",
            "States (3): ['x[0]', 'x[1]', 'x[2]']\n",
            "\n",
            "A = [[ -9. -26. -24.]\n",
            "     [  1.   0.   0.]\n",
            "     [  0.   1.   0.]]\n",
            "\n",
            "B = [[1.]\n",
            "     [0.]\n",
            "     [0.]]\n",
            "\n",
            "C = [[ 0.  0. 24.]]\n",
            "\n",
            "D = [[0.]]\n",
            "\n"
          ]
        }
      ]
    },
    {
      "cell_type": "code",
      "source": [
        "#utilizando a biblioteca scipy\n",
        "A, B, C, D = scipy.signal.tf2ss(num,den) # coeficientes do numerador e denominador\n",
        "print('A = ', A)\n",
        "print('B = ', B)\n",
        "print('C = ', C)\n",
        "print('D = ', D)"
      ],
      "metadata": {
        "id": "R0lswDI08kEJ",
        "colab": {
          "base_uri": "https://localhost:8080/"
        },
        "outputId": "aff66716-40e5-46e3-cdbc-1c4e07a8d819"
      },
      "execution_count": null,
      "outputs": [
        {
          "output_type": "stream",
          "name": "stdout",
          "text": [
            "A =  [[ -9. -26. -24.]\n",
            " [  1.   0.   0.]\n",
            " [  0.   1.   0.]]\n",
            "B =  [[1.]\n",
            " [0.]\n",
            " [0.]]\n",
            "C =  [[ 0.  0. 24.]]\n",
            "D =  [[0.]]\n"
          ]
        }
      ]
    },
    {
      "cell_type": "code",
      "source": [
        "# ch3p4: transformação na forma de variáveis de fase \n",
        "P = np.array([[0, 0, 1],[0, 1, 0],[1, 0, 0]])\n",
        "\n",
        "Pinv =  np.linalg.inv(P)\n",
        "Af = Pinv @ A @ P\n",
        "Bf = Pinv @ B\n",
        "Cf = C @ P\n",
        "Df = D\n",
        "\n",
        "print('A = ', Af)\n",
        "print('B = ', Bf)\n",
        "print('C = ', Cf)\n",
        "print('D = ', Df)"
      ],
      "metadata": {
        "id": "GUsNMM8X6NKw",
        "colab": {
          "base_uri": "https://localhost:8080/"
        },
        "outputId": "a4b5ec85-179c-43b4-e5c7-2e58cda7c54b"
      },
      "execution_count": null,
      "outputs": [
        {
          "output_type": "stream",
          "name": "stdout",
          "text": [
            "A =  [[  0.   1.   0.]\n",
            " [  0.   0.   1.]\n",
            " [-24. -26.  -9.]]\n",
            "B =  [[0.]\n",
            " [0.]\n",
            " [1.]]\n",
            "C =  [[24.  0.  0.]]\n",
            "D =  [[0.]]\n"
          ]
        }
      ]
    },
    {
      "cell_type": "markdown",
      "source": [
        "### ch3p5: conversão de equações no espaço de estados para função de transferência"
      ],
      "metadata": {
        "id": "kdEwZQnACE52"
      }
    },
    {
      "cell_type": "code",
      "source": [
        "# a partir das 4 matrizes\n",
        "A = np.array([[0, 1, 0],[0, 0, 1],[-9, -8, -7]])\n",
        "B = np.array([[7],[8],[9]])\n",
        "C = np.array([[2, 3, 4]])\n",
        "D = np.array([[0]])\n",
        "\n",
        "sys2 = co.ss2tf(A, B, C, D)\n",
        "print(sys2)"
      ],
      "metadata": {
        "id": "VnZeHsea-q9V",
        "colab": {
          "base_uri": "https://localhost:8080/"
        },
        "outputId": "d91cdec2-c91f-4b91-ddd0-40de496ec18f"
      },
      "execution_count": null,
      "outputs": [
        {
          "output_type": "stream",
          "name": "stdout",
          "text": [
            "\n",
            "74 s^2 - 199 s - 235\n",
            "---------------------\n",
            "s^3 + 7 s^2 + 8 s + 9\n",
            "\n"
          ]
        }
      ]
    },
    {
      "cell_type": "code",
      "source": [
        "# a partir do sistema de espaço de estados\n",
        "sys1 = co.ss(A, B, C, D)\n",
        "sys2 = co.ss2tf(sys1)\n",
        "print(sys2)"
      ],
      "metadata": {
        "id": "DvD5j3ZVGTfK",
        "colab": {
          "base_uri": "https://localhost:8080/"
        },
        "outputId": "6d4894d7-f2e3-40c6-8e82-7ad64439501b"
      },
      "execution_count": null,
      "outputs": [
        {
          "output_type": "stream",
          "name": "stdout",
          "text": [
            "\n",
            "74 s^2 - 199 s - 235\n",
            "---------------------\n",
            "s^3 + 7 s^2 + 8 s + 9\n",
            "\n"
          ]
        }
      ]
    },
    {
      "cell_type": "markdown",
      "source": [
        "# Resolução"
      ],
      "metadata": {
        "id": "9qyuiHaqEbkr"
      }
    },
    {
      "cell_type": "markdown",
      "source": [
        "## Questão 2\n",
        "**Convertam as equações de estado e de saída mostradas abaixo em uma função de transferência**\n",
        "\n",
        "$x = \\begin{bmatrix} -4 & -1,5 \\\\ 4 & 0\\end{bmatrix}x+ \\begin{bmatrix} 2\\\\ 0 \\end{bmatrix} u(t)$\n",
        "\n",
        "$y = \\begin{bmatrix} 1,5 & 0,625 \\end{bmatrix}x$"
      ],
      "metadata": {
        "id": "ps7FTyijkySQ"
      }
    },
    {
      "cell_type": "code",
      "source": [
        "A = np.array([[-4, -1.5],[4, 0]])\n",
        "B = np.array([[2],[0]])\n",
        "C = np.array([[1.5, 0.625]])\n",
        "D = np.array([[0]])\n",
        "\n",
        "sys2 = co.ss2tf(A, B, C, D)\n",
        "print(sys2)"
      ],
      "metadata": {
        "id": "Rqbq7QbRGmEx",
        "colab": {
          "base_uri": "https://localhost:8080/"
        },
        "outputId": "d48a49a9-8a07-450c-d8c9-3ce6ba49c413"
      },
      "execution_count": null,
      "outputs": [
        {
          "output_type": "stream",
          "name": "stdout",
          "text": [
            "\n",
            "   3 s + 5\n",
            "-------------\n",
            "s^2 + 4 s + 6\n",
            "\n"
          ]
        }
      ]
    },
    {
      "cell_type": "markdown",
      "source": [
        "## Questão 3\n",
        "**Obtenham as equações de estado e a equação de saída para a representação em variáveis de fase da função de transferência**\n",
        "\n",
        "$$G(s) = \\frac{2s+1}{(s+1)(s+3)(s^3+4s+5)}$$"
      ],
      "metadata": {
        "id": "0-WOE-5hGpC3"
      }
    },
    {
      "cell_type": "code",
      "source": [
        "num1 = [2,1]\n",
        "den1 = np.convolve([1,4,3],[1,0,4,5])\n",
        "TF1 = co.tf(num1,den1)\n",
        "print(TF1)"
      ],
      "metadata": {
        "id": "VGvGCemRGqeS",
        "colab": {
          "base_uri": "https://localhost:8080/"
        },
        "outputId": "51bc9683-b059-420c-efda-b7b85037b9fc"
      },
      "execution_count": null,
      "outputs": [
        {
          "output_type": "stream",
          "name": "stdout",
          "text": [
            "\n",
            "                2 s + 1\n",
            "----------------------------------------\n",
            "s^5 + 4 s^4 + 7 s^3 + 21 s^2 + 32 s + 15\n",
            "\n"
          ]
        }
      ]
    },
    {
      "cell_type": "code",
      "source": [
        "SS = co.tf2ss(num1,den1)\n",
        "print(SS)"
      ],
      "metadata": {
        "id": "jiSePhxq24sf",
        "outputId": "a6315c60-1fc0-4cc0-b8df-9e51aa2cba40",
        "colab": {
          "base_uri": "https://localhost:8080/"
        }
      },
      "execution_count": null,
      "outputs": [
        {
          "output_type": "stream",
          "name": "stdout",
          "text": [
            "A = [[ -4.  -7. -21. -32. -15.]\n",
            "     [  1.   0.   0.   0.   0.]\n",
            "     [  0.   1.   0.   0.   0.]\n",
            "     [  0.   0.   1.   0.   0.]\n",
            "     [  0.   0.   0.   1.   0.]]\n",
            "\n",
            "B = [[1.]\n",
            "     [0.]\n",
            "     [0.]\n",
            "     [0.]\n",
            "     [0.]]\n",
            "\n",
            "C = [[0. 0. 0. 2. 1.]]\n",
            "\n",
            "D = [[0.]]\n",
            "\n"
          ]
        }
      ]
    }
  ]
}